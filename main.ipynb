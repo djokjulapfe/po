{
 "cells": [
  {
   "cell_type": "markdown",
   "metadata": {
    "collapsed": true,
    "pycharm": {
     "name": "#%% md\n"
    }
   },
   "source": [
    "# Prepoznavanje oblika\n",
    "\n",
    "Autor: Djordje Marjanovic 2016/0120\n",
    "\n",
    "## Priprema\n",
    "\n",
    "### Ucitavanje Biblioteka"
   ]
  },
  {
   "cell_type": "code",
   "execution_count": null,
   "outputs": [],
   "source": [
    "import matplotlib.pyplot as plt\n",
    "import numpy as np\n",
    "import cv2"
   ],
   "metadata": {
    "collapsed": false,
    "pycharm": {
     "name": "#%% \n"
    }
   }
  },
  {
   "cell_type": "markdown",
   "source": [
    "## Zadatak 1\n",
    "\n",
    "Za bazu rukom pisanih samoglasnika, koja je dostupna na sajtu predmeta*\n",
    "isprojektovati inovativni sistem za prepoznavanje cifara zasnovan na\n",
    "testiranju hipoteza. Rezultate prikazati u obliku matrice konfuzije. Izveštaj\n",
    "treba da sadrži kratki opis isprojektovanog sistema, obrazložen izbor\n",
    "obeležja, kao i karakteristične primere pravilno i nepravilno klasifikovanih\n",
    "slova."
   ],
   "metadata": {
    "collapsed": false,
    "pycharm": {
     "name": "#%% md\n"
    }
   }
  }
 ],
 "metadata": {
  "kernelspec": {
   "display_name": "Python 3",
   "language": "python",
   "name": "python3"
  },
  "language_info": {
   "codemirror_mode": {
    "name": "ipython",
    "version": 2
   },
   "file_extension": ".py",
   "mimetype": "text/x-python",
   "name": "python",
   "nbconvert_exporter": "python",
   "pygments_lexer": "ipython2",
   "version": "2.7.6"
  },
  "pycharm": {
   "stem_cell": {
    "cell_type": "raw",
    "source": [],
    "metadata": {
     "collapsed": false
    }
   }
  }
 },
 "nbformat": 4,
 "nbformat_minor": 0
}